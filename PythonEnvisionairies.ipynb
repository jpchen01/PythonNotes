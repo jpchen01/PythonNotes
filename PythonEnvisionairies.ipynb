{
 "cells": [
  {
   "cell_type": "markdown",
   "id": "angry-nomination",
   "metadata": {},
   "source": [
    "# Intro to Python"
   ]
  },
  {
   "cell_type": "markdown",
   "id": "optical-livestock",
   "metadata": {},
   "source": [
    "## Important concepts"
   ]
  },
  {
   "cell_type": "markdown",
   "id": "square-immune",
   "metadata": {},
   "source": [
    "#### Python variables are not limited by type\n",
    "\n",
    "Python variables do not have a set type so you do not need to declare a type when making a variable and you can replace the contents of the variable with something completely different."
   ]
  },
  {
   "cell_type": "code",
   "execution_count": 1,
   "id": "conventional-legislation",
   "metadata": {},
   "outputs": [
    {
     "name": "stdout",
     "output_type": "stream",
     "text": [
      "Hello I'm a string\n"
     ]
    }
   ],
   "source": [
    "a = \"Hello I'm a string\" # String using double quotes, then you can use single quotes inside\n",
    "b = 'I am also a string' # You can also use single quotes for strings in Python\n",
    "\n",
    "c = 5 # Setting c to an integer\n",
    "c = a # does not cause an error in Python\n",
    "\n",
    "print(c)"
   ]
  },
  {
   "cell_type": "markdown",
   "id": "unable-crawford",
   "metadata": {},
   "source": [
    "#### Python code is separated by lines and tabs\n",
    "Languages like C require you have a ; to depict the end of a line, but Python uses new lines\n",
    "C uses {} to denote a block of code, Python uses tabs only."
   ]
  },
  {
   "cell_type": "code",
   "execution_count": 2,
   "id": "worldwide-grass",
   "metadata": {},
   "outputs": [],
   "source": [
    "def do_nothing(): # Syntax to define a function\n",
    "    pass # Tells intepretor to do nothing (used to keep spaces), tabbed to show it's inside the function"
   ]
  },
  {
   "cell_type": "code",
   "execution_count": 3,
   "id": "sustained-essex",
   "metadata": {
    "scrolled": true
   },
   "outputs": [
    {
     "ename": "SyntaxError",
     "evalue": "unexpected EOF while parsing (<ipython-input-3-1ec726e51643>, line 1)",
     "output_type": "error",
     "traceback": [
      "\u001b[1;36m  File \u001b[1;32m\"<ipython-input-3-1ec726e51643>\"\u001b[1;36m, line \u001b[1;32m1\u001b[0m\n\u001b[1;33m    def do_nothing(): # You cannot leave a function empty\u001b[0m\n\u001b[1;37m                                                         ^\u001b[0m\n\u001b[1;31mSyntaxError\u001b[0m\u001b[1;31m:\u001b[0m unexpected EOF while parsing\n"
     ]
    }
   ],
   "source": [
    "def do_nothing(): # You cannot leave a function empty"
   ]
  },
  {
   "cell_type": "code",
   "execution_count": 4,
   "id": "double-appreciation",
   "metadata": {},
   "outputs": [
    {
     "name": "stdout",
     "output_type": "stream",
     "text": [
      "0\n",
      "I'm not in the loop\n",
      "1\n",
      "I'm not in the loop\n",
      "2\n",
      "I'm not in the loop\n",
      "3\n",
      "I'm not in the loop\n",
      "4\n",
      "I'm not in the loop\n"
     ]
    }
   ],
   "source": [
    "for i in range(5): # Looping in python\n",
    "    print(i) # iterates from 0, until value provided by range, tabbed to be in the loop\n",
    "    print(\"I'm not in the loop\") # not in the loop"
   ]
  },
  {
   "cell_type": "markdown",
   "id": "adopted-singapore",
   "metadata": {},
   "source": [
    "#### Basic data storage\n",
    "Arrays and tuples are basic datastructures that are commonly seen. Arrays are just a list of variables that you can index through. Tuples are immutable, meaning you cannot change the content inside it. (Though if you want multi-dimension arrays/matrices, use the numpy package)"
   ]
  },
  {
   "cell_type": "code",
   "execution_count": 5,
   "id": "sticky-shipping",
   "metadata": {},
   "outputs": [
    {
     "name": "stdout",
     "output_type": "stream",
     "text": [
      "a type:  <class 'list'>\n",
      "b type:  <class 'tuple'>\n"
     ]
    }
   ],
   "source": [
    "a = [1, 2, 3, 4, 5]\n",
    "b = (1, 2, 3, 4, 5)\n",
    "\n",
    "print('a type: ', type(a))\n",
    "print('b type: ', type(b))"
   ]
  },
  {
   "cell_type": "code",
   "execution_count": 6,
   "id": "monthly-norman",
   "metadata": {},
   "outputs": [
    {
     "name": "stdout",
     "output_type": "stream",
     "text": [
      "['wow a string', 2, 3, 4, 5]\n"
     ]
    }
   ],
   "source": [
    "a[0] = 'wow a string' # types do not matter, also Python is 0-indexed (first element is index 0)\n",
    "print(a)"
   ]
  },
  {
   "cell_type": "code",
   "execution_count": 7,
   "id": "rotary-certification",
   "metadata": {
    "scrolled": true
   },
   "outputs": [
    {
     "ename": "TypeError",
     "evalue": "'tuple' object does not support item assignment",
     "output_type": "error",
     "traceback": [
      "\u001b[1;31m---------------------------------------------------------------------------\u001b[0m",
      "\u001b[1;31mTypeError\u001b[0m                                 Traceback (most recent call last)",
      "\u001b[1;32m<ipython-input-7-27940d62a1c9>\u001b[0m in \u001b[0;36m<module>\u001b[1;34m\u001b[0m\n\u001b[1;32m----> 1\u001b[1;33m \u001b[0mb\u001b[0m\u001b[1;33m[\u001b[0m\u001b[1;36m3\u001b[0m\u001b[1;33m]\u001b[0m \u001b[1;33m=\u001b[0m \u001b[1;36m3\u001b[0m \u001b[1;31m# cannot change tuples\u001b[0m\u001b[1;33m\u001b[0m\u001b[1;33m\u001b[0m\u001b[0m\n\u001b[0m",
      "\u001b[1;31mTypeError\u001b[0m: 'tuple' object does not support item assignment"
     ]
    }
   ],
   "source": [
    "b[3] = 3 # cannot change tuples"
   ]
  },
  {
   "cell_type": "code",
   "execution_count": 8,
   "id": "hawaiian-definition",
   "metadata": {},
   "outputs": [
    {
     "name": "stdout",
     "output_type": "stream",
     "text": [
      "wow a string\n",
      "2\n",
      "3\n",
      "4\n",
      "5\n",
      "\n",
      "wow a string\n",
      "2\n",
      "3\n",
      "4\n",
      "5\n"
     ]
    },
    {
     "data": {
      "text/plain": [
       "[None, None, None, None, None]"
      ]
     },
     "execution_count": 8,
     "metadata": {},
     "output_type": "execute_result"
    }
   ],
   "source": [
    "for element in a: # looping through an array/tuple\n",
    "    print(element)\n",
    "\n",
    "print() # print a new line\n",
    "\n",
    "[print(element) for element in a] # list comprehension to write code more consisely, but does the same thing"
   ]
  },
  {
   "cell_type": "markdown",
   "id": "infectious-damage",
   "metadata": {},
   "source": [
    "Dictionaries store varibles in the form of a key and value pair in a list. Instead of indexing, you can use keys to access the values."
   ]
  },
  {
   "cell_type": "code",
   "execution_count": 9,
   "id": "passive-bulgarian",
   "metadata": {},
   "outputs": [
    {
     "name": "stdout",
     "output_type": "stream",
     "text": [
      "value1\n",
      "value2\n",
      "value3\n"
     ]
    }
   ],
   "source": [
    "dictionary = {'key1':'value1', 'key2':'value2', 'key3':'value3'}\n",
    "\n",
    "print(dictionary['key1'])\n",
    "print(dictionary['key2'])\n",
    "print(dictionary['key3'])"
   ]
  },
  {
   "cell_type": "code",
   "execution_count": 10,
   "id": "perfect-ultimate",
   "metadata": {},
   "outputs": [
    {
     "name": "stdout",
     "output_type": "stream",
     "text": [
      "key1\n",
      "value1\n",
      "key2\n",
      "value2\n",
      "key3\n",
      "value3\n"
     ]
    }
   ],
   "source": [
    "for key in dictionary: # looping through a dictionary\n",
    "    print(key)\n",
    "    print(dictionary[key])"
   ]
  },
  {
   "cell_type": "markdown",
   "id": "sought-desire",
   "metadata": {},
   "source": [
    "#### Quick overview of functions"
   ]
  },
  {
   "cell_type": "code",
   "execution_count": 11,
   "id": "creative-parallel",
   "metadata": {},
   "outputs": [
    {
     "name": "stdout",
     "output_type": "stream",
     "text": [
      "Hello\n"
     ]
    }
   ],
   "source": [
    "def say_hello(greeting): # Function with a parameter\n",
    "    print(greeting)\n",
    "    \n",
    "say_hello('Hello')"
   ]
  },
  {
   "cell_type": "code",
   "execution_count": 12,
   "id": "persistent-conspiracy",
   "metadata": {},
   "outputs": [
    {
     "name": "stdout",
     "output_type": "stream",
     "text": [
      "Hello\n",
      "Good morning!\n"
     ]
    }
   ],
   "source": [
    "def say_hello(greeting='Good morning!'): # Function with a default parameter\n",
    "    print(greeting)\n",
    "    \n",
    "say_hello('Hello')\n",
    "say_hello() # Calling the function without an input to use the default parameters"
   ]
  },
  {
   "cell_type": "code",
   "execution_count": 13,
   "id": "referenced-copper",
   "metadata": {},
   "outputs": [
    {
     "name": "stdout",
     "output_type": "stream",
     "text": [
      "18\n",
      "Hello World!\n"
     ]
    }
   ],
   "source": [
    "def func_with_return(x, y, z): # Usually you want functions to return parameters\n",
    "    my_sum = x+y+z\n",
    "    return my_sum\n",
    "\n",
    "output = func_with_return(5, 10, 3) # Using the function to add numbers and return it\n",
    "print(output)\n",
    "\n",
    "output = func_with_return('Hello', ' World', '!') # + operator works to concacentate strings in Python\n",
    "print(output)"
   ]
  },
  {
   "cell_type": "code",
   "execution_count": 14,
   "id": "desperate-furniture",
   "metadata": {},
   "outputs": [
    {
     "name": "stdout",
     "output_type": "stream",
     "text": [
      "8 2.0\n"
     ]
    }
   ],
   "source": [
    "def multiple_returns(x, y): # Python function can return multiple things unlike other languages\n",
    "    product = x*y\n",
    "    quotient = x/y\n",
    "    return product, quotient\n",
    "\n",
    "out1, out2 = multiple_returns(4,2)\n",
    "print(out1, out2)"
   ]
  },
  {
   "cell_type": "markdown",
   "id": "optional-preliminary",
   "metadata": {},
   "source": [
    "#### Object Oriented\n",
    "Python is object-oriented, which means that many Python libraries are build through classes.  "
   ]
  },
  {
   "cell_type": "code",
   "execution_count": 15,
   "id": "funny-conference",
   "metadata": {},
   "outputs": [
    {
     "name": "stdout",
     "output_type": "stream",
     "text": [
      "5\n",
      "5\n"
     ]
    }
   ],
   "source": [
    "class MyClass():\n",
    "    \n",
    "    class_variable = 5\n",
    "    \n",
    "    def __init__(self, x): # Function that is called when the class is created\n",
    "        self.instance_variable = x\n",
    "        \n",
    "    def class_method(self): # Functions that can be called from class objects are called method\n",
    "        pass # We pass in self to refer to the object itself, which gives us access to all parts of the class\n",
    "    \n",
    "    def class_multiply(self): # Uses self to access variables from the class object \n",
    "        return self.class_variable*self.instance_variable\n",
    "            \n",
    "        \n",
    "class_instance = MyClass(10)\n",
    "another_instance = MyClass('Hello')\n",
    "\n",
    "# Different objects share the same class variable\n",
    "print(class_instance.class_variable)\n",
    "print(another_instance.class_variable)"
   ]
  },
  {
   "cell_type": "code",
   "execution_count": 16,
   "id": "statistical-poison",
   "metadata": {},
   "outputs": [
    {
     "name": "stdout",
     "output_type": "stream",
     "text": [
      "Jill\n",
      "Bob\n"
     ]
    }
   ],
   "source": [
    "class Dog():\n",
    "    sound = \"woof\"\n",
    "    \n",
    "    def __init__(self, name):\n",
    "        self.name = name\n",
    "    \n",
    "    def make_sound(self):\n",
    "        print(self.sound)\n",
    "    \n",
    "dog = Dog('Bob')\n",
    "dog2 = Dog('Jill')\n",
    "print(dog2.name)\n",
    "print(dog.name)"
   ]
  },
  {
   "cell_type": "code",
   "execution_count": 17,
   "id": "fifty-aberdeen",
   "metadata": {},
   "outputs": [
    {
     "name": "stdout",
     "output_type": "stream",
     "text": [
      "10\n",
      "Hello\n"
     ]
    }
   ],
   "source": [
    "# Different objects have their own instance variables that are created in the \n",
    "print(class_instance.instance_variable)\n",
    "print(another_instance.instance_variable)"
   ]
  },
  {
   "cell_type": "code",
   "execution_count": 18,
   "id": "horizontal-leadership",
   "metadata": {},
   "outputs": [
    {
     "name": "stdout",
     "output_type": "stream",
     "text": [
      "50\n"
     ]
    }
   ],
   "source": [
    "print(class_instance.class_multiply()) # Use () to call function"
   ]
  },
  {
   "cell_type": "markdown",
   "id": "willing-sitting",
   "metadata": {},
   "source": [
    "### Python Packages\n",
    "Python is really powerful because of the many packages that it comes with."
   ]
  },
  {
   "cell_type": "markdown",
   "id": "structured-irish",
   "metadata": {},
   "source": [
    "- NumPy: Matrices + other Math functions\n",
    "- Pandas: Dataframes (tables) that are workable through code\n",
    "- Matplotlib: Graph settings + basic graphing\n",
    "- Seaborn: Nice Graphs\n",
    "- BeautifulSoup: XML + HTML parsing (webscraping)\n",
    "- OpenCV: Image Processing and computer vision\n",
    "- PyTorch: Machine learning\n",
    "- SciPy: Complex math and visualizations, heavily used in scientific community\n",
    "- PyGame: Making games in python\n",
    "- PyQt: UI + app design\n",
    "- Requests: HTTP server magic\n",
    "- pyjokes: you can ask it for jokes\n",
    "\n",
    "This list is very limited, but shows that you can almost find a library for anything in Python"
   ]
  }
 ],
 "metadata": {
  "kernelspec": {
   "display_name": "Python 3",
   "language": "python",
   "name": "python3"
  },
  "language_info": {
   "codemirror_mode": {
    "name": "ipython",
    "version": 3
   },
   "file_extension": ".py",
   "mimetype": "text/x-python",
   "name": "python",
   "nbconvert_exporter": "python",
   "pygments_lexer": "ipython3",
   "version": "3.8.8"
  }
 },
 "nbformat": 4,
 "nbformat_minor": 5
}
